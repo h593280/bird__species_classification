{
 "cells": [
  {
   "cell_type": "code",
   "execution_count": 12,
   "metadata": {},
   "outputs": [
    {
     "data": {
      "text/plain": [
       "<Figure size 640x480 with 0 Axes>"
      ]
     },
     "metadata": {},
     "output_type": "display_data"
    }
   ],
   "source": [
    "import os\n",
    "import librosa\n",
    "import librosa.display\n",
    "import matplotlib.pyplot as plt\n",
    "import numpy as np\n",
    "\n",
    "# Define directory containing audio files\n",
    "audio_dir = '../dataset/audio'\n",
    "\n",
    "# Define the folder to process\n",
    "folder_to_process = 'Grønnfink'\n",
    "\n",
    "# Create output directory for spectrogram images\n",
    "output_dir = os.path.join('.', 'dataset', folder_to_process + '_spectrograms')\n",
    "os.makedirs(output_dir, exist_ok=True)\n",
    "\n",
    "# Loop over each audio file in the folder\n",
    "folder_path = os.path.join(audio_dir, folder_to_process)\n",
    "for audio_file in os.listdir(folder_path):\n",
    "    # Check if file is a WAV file\n",
    "    if audio_file.endswith('.wav'):\n",
    "        # Get full path of audio file\n",
    "        audio_path = os.path.join(folder_path, audio_file)\n",
    "        # Load audio file\n",
    "        y, sr = librosa.load(audio_path)\n",
    "        # Compute spectrogram\n",
    "        spectrogram = librosa.feature.melspectrogram(y=y, sr=sr)\n",
    "        # Convert to decibels\n",
    "        spectrogram_db = librosa.power_to_db(spectrogram, ref=np.max)\n",
    "        # Display spectrogram\n",
    "        librosa.display.specshow(spectrogram_db, x_axis='time', y_axis='mel')\n",
    "        plt.colorbar(format='%+2.0f dB')\n",
    "        plt.title('Spectrogram for File: {}'.format(audio_file))\n",
    "        # Save spectrogram as image file\n",
    "        output_path = os.path.join(output_dir, os.path.splitext(audio_file)[0] + '.png')\n",
    "        plt.savefig(output_path)\n",
    "        # Clear current figure to free up memory\n",
    "        plt.clf()"
   ]
  }
 ],
 "metadata": {
  "kernelspec": {
   "display_name": "base",
   "language": "python",
   "name": "python3"
  },
  "language_info": {
   "codemirror_mode": {
    "name": "ipython",
    "version": 3
   },
   "file_extension": ".py",
   "mimetype": "text/x-python",
   "name": "python",
   "nbconvert_exporter": "python",
   "pygments_lexer": "ipython3",
   "version": "3.9.13"
  },
  "orig_nbformat": 4,
  "vscode": {
   "interpreter": {
    "hash": "0a795b0a2123ccc7b895c3dd887cf81bbab81ff36769dcdee7600a0c050d6c75"
   }
  }
 },
 "nbformat": 4,
 "nbformat_minor": 2
}
