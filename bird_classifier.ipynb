{
 "cells": [
  {
   "cell_type": "code",
   "execution_count": null,
   "metadata": {},
   "outputs": [],
   "source": [
    "import ipywidgets as widgets\n",
    "import random\n",
    "import pickle\n",
    "import os\n",
    "import glob\n",
    "import cv2 as cv\n",
    "import numpy as np, pandas as pd, matplotlib.pyplot as plt \n",
    "from pathlib import Path\n",
    "import io\n",
    "from PIL import Image"
   ]
  },
  {
   "cell_type": "code",
   "execution_count": 2,
   "metadata": {},
   "outputs": [],
   "source": [
    "DIRECTORY = \"dataset\"\n",
    "\n",
    "CATEGORIES = [\"Gråspruv\", \"Grønnfink\", \"Grønnsisik\", \"Kråke\", \"Nøtteskrike\", \"Pilfink\"]"
   ]
  },
  {
   "cell_type": "code",
   "execution_count": null,
   "metadata": {},
   "outputs": [],
   "source": [
    "# Her henter vi hvert treningsbilde inn i en array og setter dem inn i data[] sammen med svaret på hilket dyr det er. \n",
    "# Her opplevde vi noe problemer med at enkelte bilder bli lest som null når det ble hentet, så vi må sjekke at vi ikke får null verdi på bilden.\n",
    "# De som får null verdi hopper vi over.\n",
    "data = []\n",
    "\n",
    "for category in CATEGORIES:\n",
    "    folder = os.path.join(DIRECTORY, category)\n",
    "    label = CATEGORIES.index(category)\n",
    "    for img in os.listdir(folder):\n",
    "        img_path = os.path.join(folder, img)\n",
    "        img_arr = cv.imread(img_path)\n",
    "        if img_arr is None:\n",
    "            print('feil')\n",
    "        else:\n",
    "            data.append([img_arr, label])"
   ]
  },
  {
   "cell_type": "code",
   "execution_count": null,
   "metadata": {},
   "outputs": [],
   "source": [
    "plt.imshow(data[1][0])\n",
    "# Eksempel på ett av bildene i data[]."
   ]
  },
  {
   "cell_type": "code",
   "execution_count": null,
   "metadata": {},
   "outputs": [],
   "source": [
    "random.shuffle(data)\n",
    "# Her tar vi å stokker om slik at vi ikke får samme type dyr gruppet sammen når vi skal trene modellen."
   ]
  },
  {
   "cell_type": "code",
   "execution_count": null,
   "metadata": {},
   "outputs": [],
   "source": [
    "plt.imshow(data[1][0])\n",
    "# Her henter vi et bilde fra data[] som er på akkurat samme plass som det bildet vi hentet tidligere, som vi kan se er bildet annerleds enn istad.\n",
    "# Det er et bevis på at shuffle metoden fungerte!"
   ]
  },
  {
   "cell_type": "code",
   "execution_count": null,
   "metadata": {},
   "outputs": [],
   "source": [
    "X = []\n",
    "Y = []\n",
    "\n",
    "for features, labels in data:\n",
    "    X.append(features)\n",
    "    Y.append(labels)\n",
    "# Splitter treningsdataen for å forbedrede den til modell-trening."
   ]
  },
  {
   "cell_type": "code",
   "execution_count": null,
   "metadata": {},
   "outputs": [],
   "source": [
    "X = np.array(X)\n",
    "Y = np.array(Y)\n",
    "# Setter X og Y verdiene inn i en array."
   ]
  },
  {
   "cell_type": "code",
   "execution_count": null,
   "metadata": {},
   "outputs": [],
   "source": [
    "X = X/255\n",
    "# Deler treningsdataen på 255 fordi hver piksel kan ha en verdi fra 0 til 255. Ved å dele på 255 vil vi stadardisere dataen, \n",
    "# slik at den blir mellom 0 til 1."
   ]
  },
  {
   "cell_type": "code",
   "execution_count": null,
   "metadata": {},
   "outputs": [],
   "source": [
    "X.shape\n",
    "# 1725 er antall bilder vi har i X, (300, 300) er begge størrelsen på bildene, og 3 står for hvert fargelag (r = rød, g = grønn, b = blå)"
   ]
  },
  {
   "cell_type": "code",
   "execution_count": null,
   "metadata": {},
   "outputs": [],
   "source": [
    "import fastai"
   ]
  }
 ],
 "metadata": {
  "kernelspec": {
   "display_name": "base",
   "language": "python",
   "name": "python3"
  },
  "language_info": {
   "codemirror_mode": {
    "name": "ipython",
    "version": 3
   },
   "file_extension": ".py",
   "mimetype": "text/x-python",
   "name": "python",
   "nbconvert_exporter": "python",
   "pygments_lexer": "ipython3",
   "version": "3.9.13"
  },
  "orig_nbformat": 4,
  "vscode": {
   "interpreter": {
    "hash": "0a795b0a2123ccc7b895c3dd887cf81bbab81ff36769dcdee7600a0c050d6c75"
   }
  }
 },
 "nbformat": 4,
 "nbformat_minor": 2
}
