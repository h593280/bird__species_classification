{
 "cells": [
  {
   "attachments": {},
   "cell_type": "markdown",
   "metadata": {},
   "source": [
    "# Delete all wav files 10 < x > 30"
   ]
  },
  {
   "cell_type": "code",
   "execution_count": 29,
   "metadata": {},
   "outputs": [
    {
     "name": "stdout",
     "output_type": "stream",
     "text": [
      "47\n",
      "['../dataset/audio/Kråke\\\\100500.wav', '../dataset/audio/Kråke\\\\126849.wav', '../dataset/audio/Kråke\\\\126861.wav', '../dataset/audio/Kråke\\\\128688.wav', '../dataset/audio/Kråke\\\\144442.wav', '../dataset/audio/Kråke\\\\148678.wav', '../dataset/audio/Kråke\\\\165059.wav', '../dataset/audio/Kråke\\\\167415.wav', '../dataset/audio/Kråke\\\\167419.wav', '../dataset/audio/Kråke\\\\167733.wav', '../dataset/audio/Kråke\\\\167747.wav', '../dataset/audio/Kråke\\\\168256.wav', '../dataset/audio/Kråke\\\\168266.wav', '../dataset/audio/Kråke\\\\168276.wav', '../dataset/audio/Kråke\\\\168539.wav', '../dataset/audio/Kråke\\\\168540.wav', '../dataset/audio/Kråke\\\\169118.wav', '../dataset/audio/Kråke\\\\193706.wav', '../dataset/audio/Kråke\\\\193921.wav', '../dataset/audio/Kråke\\\\194577.wav', '../dataset/audio/Kråke\\\\232810.wav', '../dataset/audio/Kråke\\\\232811.wav', '../dataset/audio/Kråke\\\\232812.wav', '../dataset/audio/Kråke\\\\236890.wav', '../dataset/audio/Kråke\\\\237240.wav', '../dataset/audio/Kråke\\\\309590.wav', '../dataset/audio/Kråke\\\\357870.wav', '../dataset/audio/Kråke\\\\357871.wav', '../dataset/audio/Kråke\\\\357872.wav', '../dataset/audio/Kråke\\\\357873.wav', '../dataset/audio/Kråke\\\\357876.wav', '../dataset/audio/Kråke\\\\357877.wav', '../dataset/audio/Kråke\\\\357879.wav', '../dataset/audio/Kråke\\\\367547.wav', '../dataset/audio/Kråke\\\\372358.wav', '../dataset/audio/Kråke\\\\374184.wav', '../dataset/audio/Kråke\\\\394948.wav', '../dataset/audio/Kråke\\\\439166.wav', '../dataset/audio/Kråke\\\\449072.wav', '../dataset/audio/Kråke\\\\506479.wav', '../dataset/audio/Kråke\\\\507713.wav', '../dataset/audio/Kråke\\\\536193.wav', '../dataset/audio/Kråke\\\\580397.wav', '../dataset/audio/Kråke\\\\580398.wav', '../dataset/audio/Kråke\\\\620451.wav', '../dataset/audio/Kråke\\\\714894.wav', '../dataset/audio/Kråke\\\\737120.wav']\n"
     ]
    }
   ],
   "source": [
    "import wave\n",
    "import os\n",
    "import shutil\n",
    "\n",
    "def count_short_wav_files(folder_path, desired_length=30):\n",
    "    \"\"\"Count the number of WAV files in the folder that have a length of\n",
    "    desired_length seconds or less.\n",
    "    \"\"\"\n",
    "    short_files = 0\n",
    "    filer = []\n",
    "\n",
    "    # Loop through all files in the folder\n",
    "    for filename in os.listdir(folder_path):\n",
    "        if filename.endswith('.wav'):\n",
    "            filepath = os.path.join(folder_path, filename)\n",
    "            with wave.open(filepath, 'r') as wav:\n",
    "                # Get the length of the WAV file in seconds\n",
    "                length = float(wav.getnframes()) / wav.getframerate()\n",
    "\n",
    "\n",
    "                # Check if the length is equal to or less than the desired length\n",
    "                if length <= desired_length and length >=10:\n",
    "                    short_files += 1\n",
    "                    filer.append(filepath)\n",
    "\n",
    "    return short_files, filer\n",
    "\n",
    " #calle på funksjon\n",
    "folder_path = '../dataset/audio/Kråke'\n",
    "destination_path = '../dataset/audio/KråkeNy'\n",
    "num_short_files, endeligefiler = count_short_wav_files(folder_path)\n",
    "print(num_short_files)\n",
    "print(endeligefiler)\n",
    "\n",
    "for fil in endeligefiler:\n",
    "    shutil.move(fil, destination_path) "
   ]
  },
  {
   "attachments": {},
   "cell_type": "markdown",
   "metadata": {},
   "source": [
    "# Convert wav to spectogram "
   ]
  },
  {
   "cell_type": "code",
   "execution_count": 36,
   "metadata": {},
   "outputs": [],
   "source": [
    "import os\n",
    "import librosa\n",
    "import librosa.display\n",
    "import numpy as np\n",
    "import matplotlib.pyplot as plt\n",
    "\n",
    "def convert_wav_to_spectrogram(wav_folder, spect_folder):\n",
    "    \"\"\"\n",
    "    Convert all WAV files in a folder to spectrograms and save them as PNG files.\n",
    "\n",
    "    Args:\n",
    "        wav_folder (str): Path to the folder containing the WAV files.\n",
    "        spect_folder (str): Path to the folder where the spectrograms will be saved.\n",
    "    \"\"\"\n",
    "    # create the folder if it doesn't exist\n",
    "    os.makedirs(spect_folder, exist_ok=True)\n",
    "\n",
    "    # loop through each WAV file in the folder\n",
    "    for wav_file in os.listdir(wav_folder):\n",
    "        # load the audio file\n",
    "        wav_path = os.path.join(wav_folder, wav_file)\n",
    "        y, sr = librosa.load(wav_path, sr=None)\n",
    "\n",
    "        # calculate the spectrogram\n",
    "        S = librosa.feature.melspectrogram(y=y, sr=sr)\n",
    "\n",
    "        # convert to decibels\n",
    "        log_S = librosa.power_to_db(S, ref=np.max)\n",
    "\n",
    "        # save the spectrogram as a PNG file\n",
    "        spect_path = os.path.join(spect_folder, wav_file[:-4] + '.png')\n",
    "        librosa.display.specshow(log_S, sr=sr, x_axis='time', y_axis='mel')\n",
    "        plt.axis('off')\n",
    "        plt.savefig(spect_path, bbox_inches='tight')\n",
    "        plt.clf()\n"
   ]
  },
  {
   "cell_type": "code",
   "execution_count": 48,
   "metadata": {},
   "outputs": [],
   "source": [
    "parent_folder = '../dataset/audio/'\n",
    "subfolder = 'Kjøttmeis'\n",
    "wav_folder = os.path.join(parent_folder, subfolder)\n",
    "spect_folder = os.path.join(parent_folder, 'spectograms', subfolder)\n",
    "\n",
    "convert_wav_to_spectrogram(wav_folder, spect_folder)\n"
   ]
  }
 ],
 "metadata": {
  "kernelspec": {
   "display_name": "base",
   "language": "python",
   "name": "python3"
  },
  "language_info": {
   "codemirror_mode": {
    "name": "ipython",
    "version": 3
   },
   "file_extension": ".py",
   "mimetype": "text/x-python",
   "name": "python",
   "nbconvert_exporter": "python",
   "pygments_lexer": "ipython3",
   "version": "3.9.13"
  },
  "orig_nbformat": 4,
  "vscode": {
   "interpreter": {
    "hash": "0a795b0a2123ccc7b895c3dd887cf81bbab81ff36769dcdee7600a0c050d6c75"
   }
  }
 },
 "nbformat": 4,
 "nbformat_minor": 2
}
