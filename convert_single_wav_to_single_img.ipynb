{
 "cells": [
  {
   "cell_type": "code",
   "execution_count": 3,
   "metadata": {},
   "outputs": [],
   "source": [
    "import matplotlib.pyplot as plt\n",
    "import matplotlib.colors as colors\n",
    "import numpy as np\n",
    "import io\n",
    "import wave\n",
    "import os\n",
    "import librosa\n"
   ]
  },
  {
   "cell_type": "code",
   "execution_count": 5,
   "metadata": {},
   "outputs": [],
   "source": [
    "\n",
    "def count_wav_files(input_folder):\n",
    "    count = 0\n",
    "    \n",
    "    # Loop through all WAV files in the input folder\n",
    "    for file in os.listdir(input_folder):\n",
    "        if file.endswith('.wav'):\n",
    "            # Open the WAV file and get its parameters\n",
    "            file_path = os.path.join(input_folder, file)\n",
    "            with wave.open(file_path, 'rb') as wav:\n",
    "                num_frames = wav.getnframes()\n",
    "                frame_rate = wav.getframerate()\n",
    "                duration = num_frames / float(frame_rate)\n",
    "\n",
    "            # Check if the duration is between 10 and 30 seconds\n",
    "            if duration >= 10 and duration <= 30:\n",
    "                # If it is, increment the count\n",
    "                count += 1\n",
    "    \n",
    "    return count"
   ]
  },
  {
   "cell_type": "code",
   "execution_count": 12,
   "metadata": {},
   "outputs": [
    {
     "name": "stdout",
     "output_type": "stream",
     "text": [
      "47\n"
     ]
    }
   ],
   "source": [
    "folder_path = '../dataset/audio/'\n",
    "num_short_files = count_wav_files(folder_path)\n",
    "print(num_short_files)\n"
   ]
  },
  {
   "cell_type": "code",
   "execution_count": 6,
   "metadata": {},
   "outputs": [],
   "source": [
    "\n",
    "def create_spectrogram(audio_path, output_dir):\n",
    "    # Load audio file\n",
    "    y, sr = librosa.load(audio_path)\n",
    "    # Compute spectrogram\n",
    "    spectrogram = librosa.feature.melspectrogram(y=y, sr=sr)\n",
    "    # Convert to decibels\n",
    "    spectrogram_db = librosa.power_to_db(spectrogram, ref=np.max)\n",
    "    # Display spectrogram\n",
    "    librosa.display.specshow(spectrogram_db, x_axis='time', y_axis='mel')\n",
    "    # Add colorbar\n",
    "    norm = colors.SymLogNorm(linthresh=0.1, linscale=0.1, vmin=np.min(spectrogram_db), vmax=np.max(spectrogram_db))\n",
    "    mappable = plt.cm.ScalarMappable(norm=norm, cmap=plt.get_cmap('coolwarm'))\n",
    "    mappable.set_array([])\n",
    "    plt.colorbar(mappable, format='%+2.0f dB')\n",
    "    # Set title\n",
    "    plt.title('Spectrogram for File: {}'.format(os.path.basename(audio_path)))\n",
    "    # Save spectrogram as image file\n",
    "    output_path = os.path.join(output_dir, os.path.splitext(os.path.basename(audio_path))[0] + '.png')\n",
    "    plt.savefig(output_path)\n",
    "    # Clear current figure to free up memory\n",
    "    plt.clf()\n",
    "\n"
   ]
  },
  {
   "cell_type": "code",
   "execution_count": 7,
   "metadata": {},
   "outputs": [
    {
     "data": {
      "text/plain": [
       "<Figure size 640x480 with 0 Axes>"
      ]
     },
     "metadata": {},
     "output_type": "display_data"
    }
   ],
   "source": [
    "create_spectrogram(\"test/wav/kråke.wav\", \"test/img\")"
   ]
  }
 ],
 "metadata": {
  "kernelspec": {
   "display_name": "base",
   "language": "python",
   "name": "python3"
  },
  "language_info": {
   "codemirror_mode": {
    "name": "ipython",
    "version": 3
   },
   "file_extension": ".py",
   "mimetype": "text/x-python",
   "name": "python",
   "nbconvert_exporter": "python",
   "pygments_lexer": "ipython3",
   "version": "3.9.13"
  },
  "orig_nbformat": 4,
  "vscode": {
   "interpreter": {
    "hash": "0a795b0a2123ccc7b895c3dd887cf81bbab81ff36769dcdee7600a0c050d6c75"
   }
  }
 },
 "nbformat": 4,
 "nbformat_minor": 2
}
