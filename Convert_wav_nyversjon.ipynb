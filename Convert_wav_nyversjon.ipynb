{
 "cells": [
  {
   "cell_type": "code",
   "execution_count": 1,
   "metadata": {},
   "outputs": [
    {
     "name": "stderr",
     "output_type": "stream",
     "text": [
      "/Library/Frameworks/Python.framework/Versions/3.10/lib/python3.10/site-packages/librosa/display.py:974: MatplotlibDeprecationWarning: The 'basey' parameter of __init__() has been renamed 'base' since Matplotlib 3.3; support for the old name will be dropped two minor releases later.\n",
      "  scaler(mode, **kwargs)\n",
      "/Library/Frameworks/Python.framework/Versions/3.10/lib/python3.10/site-packages/librosa/display.py:974: MatplotlibDeprecationWarning: The 'linthreshy' parameter of __init__() has been renamed 'linthresh' since Matplotlib 3.3; support for the old name will be dropped two minor releases later.\n",
      "  scaler(mode, **kwargs)\n",
      "/var/folders/rm/p6w6nqq941n3m4t398xztxph0000gn/T/ipykernel_39209/3599578839.py:34: MatplotlibDeprecationWarning: default base will change from np.e to 10 in 3.4.  To suppress this warning specify the base keyword argument.\n",
      "  norm = colors.SymLogNorm(linthresh=0.1, linscale=0.1, vmin=np.min(spectrogram_db), vmax=np.max(spectrogram_db))\n"
     ]
    },
    {
     "data": {
      "text/plain": [
       "<Figure size 432x288 with 0 Axes>"
      ]
     },
     "metadata": {},
     "output_type": "display_data"
    }
   ],
   "source": [
    "import os\n",
    "import librosa\n",
    "import librosa.display\n",
    "import matplotlib.pyplot as plt\n",
    "import matplotlib.colors as colors\n",
    "import numpy as np\n",
    "\n",
    "# Define directory containing audio files\n",
    "audio_dir = '/Users/andreaswergeland/Downloads/dataset/audio'\n",
    "\n",
    "# Define the folder to process\n",
    "folder_to_process = 'Fossekall'\n",
    "\n",
    "# Create output directory for spectrogram images\n",
    "output_dir = os.path.join('.', 'dataset', folder_to_process + '_spectrograms')\n",
    "os.makedirs(output_dir, exist_ok=True)\n",
    "\n",
    "# Loop over each audio file in the folder\n",
    "folder_path = os.path.join(audio_dir, folder_to_process)\n",
    "for audio_file in os.listdir(folder_path):\n",
    "    # Check if file is a WAV file\n",
    "    if audio_file.endswith('.wav'):\n",
    "        # Get full path of audio file\n",
    "        audio_path = os.path.join(folder_path, audio_file)\n",
    "        # Load audio file\n",
    "        y, sr = librosa.load(audio_path)\n",
    "        # Compute spectrogram\n",
    "        spectrogram = librosa.feature.melspectrogram(y=y, sr=sr)\n",
    "        # Convert to decibels\n",
    "        spectrogram_db = librosa.power_to_db(spectrogram, ref=np.max)\n",
    "        # Display spectrogram\n",
    "        librosa.display.specshow(spectrogram_db, x_axis='time', y_axis='mel')\n",
    "        # Add colorbar\n",
    "        norm = colors.SymLogNorm(linthresh=0.1, linscale=0.1, vmin=np.min(spectrogram_db), vmax=np.max(spectrogram_db))\n",
    "        mappable = plt.cm.ScalarMappable(norm=norm, cmap=plt.get_cmap('coolwarm'))\n",
    "        mappable.set_array([])\n",
    "        plt.colorbar(mappable, format='%+2.0f dB')\n",
    "        # Set title\n",
    "        plt.title('Spectrogram for File: {}'.format(audio_file))\n",
    "        # Save spectrogram as image file\n",
    "        output_path = os.path.join(output_dir, os.path.splitext(audio_file)[0] + '.png')\n",
    "        plt.savefig(output_path)\n",
    "        # Clear current figure to free up memory\n",
    "        plt.clf()\n"
   ]
  }
 ],
 "metadata": {
  "interpreter": {
   "hash": "aee8b7b246df8f9039afb4144a1f6fd8d2ca17a180786b69acc140d282b71a49"
  },
  "kernelspec": {
   "display_name": "Python 3.10.2 64-bit",
   "language": "python",
   "name": "python3"
  },
  "language_info": {
   "codemirror_mode": {
    "name": "ipython",
    "version": 3
   },
   "file_extension": ".py",
   "mimetype": "text/x-python",
   "name": "python",
   "nbconvert_exporter": "python",
   "pygments_lexer": "ipython3",
   "version": "3.10.2"
  },
  "orig_nbformat": 4
 },
 "nbformat": 4,
 "nbformat_minor": 2
}
